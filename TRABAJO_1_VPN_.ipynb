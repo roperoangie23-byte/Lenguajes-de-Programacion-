{
  "nbformat": 4,
  "nbformat_minor": 0,
  "metadata": {
    "colab": {
      "provenance": []
    },
    "kernelspec": {
      "name": "python3",
      "display_name": "Python 3"
    },
    "language_info": {
      "name": "python"
    }
  },
  "cells": [
    {
      "cell_type": "code",
      "execution_count": null,
      "metadata": {
        "id": "JQW_FXHNuNgi"
      },
      "outputs": [],
      "source": []
    },
    {
      "cell_type": "markdown",
      "source": [
        "# **Valor presente neto**\n",
        "\n",
        "El Valor Presente Neto (VPN), también conocido como Valor Actual Neto (VAN), es un método de evaluación financiera que calcula la diferencia entre el valor actual de los flujos de efectivo futuros esperados de un proyecto y la inversión inicial. Este indicador considera el valor del dinero en el tiempo, descontando los flujos futuros a una tasa de interés específica para determinar si la inversión generará ganancias (VPN positivo) o pérdidas (VPN negativo) en términos actuales.\n",
        "\n",
        "## **Formula del valor presente neto (VPN)**\n",
        "\n",
        "La formula de VPN se expresa de la siguiente manera:\n",
        "\n",
        "\\[\n",
        "$$\n",
        "VPN = \\sum_{t=0}^{n} \\frac{c_t}{(1+r)^t} - C_0  \n",
        "$$\n",
        "\n",
        "\\]\n",
        "\n",
        "Donde:\n",
        "- \\(C_t\\) es el flujo de caja en el tiempo \\(t\\).\n",
        "- \\(r\\) es la tasa de descuento.\n",
        "- \\(n\\) es el número total de periodos.\n",
        "- \\(C_0\\) es la inversión inicial.\n",
        "\n",
        "### **Interpretación**\n",
        "\n",
        "- Si \\(VPN > 0\\), la inversión es rentable.\n",
        "- Si \\(VPN < 0\\), la inversión no es rentable.\n",
        "- Si \\(VPN = 0\\), la inversión no genera ni pérdidas ni ganancias.\n",
        "\n",
        "## **Enlace util**\n",
        "\n",
        "Para obtener mas informacion sobre el Valor Presente Neto, puedes consultar el siguiente [enlace](https://blog.hubspot.es/sales/que-es-valor-presente-neto).\n",
        "\n",
        "\n",
        "\n",
        "\n",
        "\n",
        "\n",
        "\n"
      ],
      "metadata": {
        "id": "aX0VB90Sw2xn"
      }
    },
    {
      "cell_type": "markdown",
      "source": [
        "\\[\n",
        "$$\n",
        "VPN = \\sum_{t=0}^{n} \\frac{c_t}{(1+r)^t} - C_0  \n",
        "$$\n",
        "\n",
        "\\]"
      ],
      "metadata": {
        "id": "W0N24zrm7jI6"
      }
    },
    {
      "cell_type": "code",
      "source": [
        "inversion_inicial = 1000000000\n",
        "flujo_ano_1 = 3000000\n",
        "flujo_ano_2 = 3000000\n",
        "flujo_ano_3 = 3000000\n",
        "\n",
        "tasa_descuento = 0.05"
      ],
      "metadata": {
        "id": "T8IBlW1d48_A"
      },
      "execution_count": null,
      "outputs": []
    },
    {
      "cell_type": "code",
      "source": [
        "vpn = (flujo_ano_1 / (1 + tasa_descuento)**1) + \\\n",
        "      (flujo_ano_2 / (1 + tasa_descuento)**2) + \\\n",
        "      (flujo_ano_3 / (1 + tasa_descuento)**3) - inversion_inicial\n",
        "\n",
        "print(\"El Valor Presente Neto (VPN) es:\", vpn)"
      ],
      "metadata": {
        "colab": {
          "base_uri": "https://localhost:8080/"
        },
        "id": "GW0AOs9E5s0C",
        "outputId": "343a721d-720b-48ca-ffd1-39c4b3a886c5"
      },
      "execution_count": null,
      "outputs": [
        {
          "output_type": "stream",
          "name": "stdout",
          "text": [
            "El Valor Presente Neto (VPN) es: -991830255.9118886\n"
          ]
        }
      ]
    },
    {
      "cell_type": "code",
      "source": [
        "if vpn > 0:\n",
        "  print(\"El proyecto es viable, ya que el VPN es positivo\")\n",
        "else:\n",
        "  print(\"El proyecto no es viable, ya que el VPN es negativo.\")"
      ],
      "metadata": {
        "colab": {
          "base_uri": "https://localhost:8080/"
        },
        "id": "V5pArXpG8kd-",
        "outputId": "0d7d43ad-35ec-4828-9c34-ddc6313db3ad"
      },
      "execution_count": null,
      "outputs": [
        {
          "output_type": "stream",
          "name": "stdout",
          "text": [
            "El proyecto no es viable, ya que el VPN es negativo.\n"
          ]
        }
      ]
    }
  ]
}